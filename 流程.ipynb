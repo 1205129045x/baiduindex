{
 "cells": [
  {
   "cell_type": "markdown",
   "metadata": {},
   "source": [
    "# 爬取数据\n",
    "参考github现成的代码，获取cookies后再调用接口爬取数据\n",
    "\n",
    "原githu代码网址 https://github.com/longxiaofei/spider-BaiduIndex"
   ]
  },
  {
   "cell_type": "code",
   "execution_count": 2,
   "metadata": {},
   "outputs": [],
   "source": [
    "import time\n",
    "import pandas as pd\n",
    "from qdata.baidu_index import get_search_index\n",
    "from qdata.baidu_index.common import split_keywords\n",
    "\n",
    "\n",
    "keywords_list = [['携程'], ['去哪儿'], ['同程网'],['马蜂窝'],['途牛网'],['穷游网'],['同城旅行'],['飞猪'],['艺龙']]\n",
    "cookies = \"\"\"BDUSS=jI0ZjFofkhWTGxqaVc1Zi16NnVHanpnTFV0Z3JBUmZIR05nb3d4ai1SVFJsRGxqSVFBQUFBJCQAAAAAAAAAAAEAAABn0QcceG5tYmMAAAAAAAAAAAAAAAAAAAAAAAAAAAAAAAAAAAAAAAAAAAAAAAAAAAAAAAAAAAAAAAAAAAAAAAAAAAAAANEHEmPRBxJjQ;STOKEN=89bcba91b69b59ec6a2d5124eacf0153575c69543d258c6d08884024a6919bd7; \"\"\"\n",
    "\n",
    "data_df = pd.DataFrame()\n",
    "\n",
    "for keywords in split_keywords(keywords_list):\n",
    "    for index in get_search_index(\n",
    "        keywords_list=keywords,\n",
    "        start_date='2019-01-01',\n",
    "        end_date='2022-08-01',\n",
    "        cookies=cookies\n",
    "    ):\n",
    "        if index['type'] == 'all':\n",
    "            data_df = pd.concat([data_df, data_df.from_dict(index)], ignore_index=True)\n",
    "            # print(index)\n",
    "    time.sleep(15)\n",
    "\n",
    "data_df.to_csv('指数数据.csv',encoding='gbk',index=False)\n",
    "\n",
    "\n",
    "# 存为月度数据\n",
    "data_df['date']=pd.to_datetime(data_df.date) \n",
    "data_df['date']=data_df['date'].dt.to_period('M') \n",
    "data_df.groupby(['keyword','date']).mean().to_csv('月度数据.csv',encoding='gbk')"
   ]
  },
  {
   "cell_type": "markdown",
   "metadata": {},
   "source": [
    "# 画图\n",
    "\n",
    "timeline来源\n",
    "\n",
    "https://matplotlib.org/stable/gallery/lines_bars_and_markers/timeline.html#sphx-glr-gallery-lines-bars-and-markers-timeline-py"
   ]
  },
  {
   "cell_type": "code",
   "execution_count": null,
   "metadata": {},
   "outputs": [],
   "source": [
    "import matplotlib.pyplot as plt\n",
    "import matplotlib.dates as mdates\n",
    "import matplotlib.ticker as ticker\n",
    "import seaborn as sns\n",
    "import numpy as np\n",
    "from matplotlib import rcParams\n",
    "from datetime import datetime\n",
    "# rcParams配置文件，用来定义各种变量的，这里用来定义字体\n",
    "config = {\n",
    "    \"font.family\":'serif',\n",
    "    \"font.size\": 18,\n",
    "    \"mathtext.fontset\":'stix', # 表示可以用latex写公式，stix类似于Time News Romen\n",
    "    \"font.serif\": ['SimSun'], # 表示中文用的是宋体\n",
    "    \"figure.constrained_layout.use\" : False,\n",
    "}\n",
    "rcParams.update(config) # 后更新配置，防止字体设置被覆盖\n",
    "data_df=pd.read_csv('月度数据.csv',encoding='gbk')\n",
    "data_df['date'] = [datetime.strptime(d, \"%Y-%m\") for d in data_df['date']]\n",
    "# data_df['date'] = pd.to_datetime(data_df.date, format='%Y/%m/%d') \n",
    "# data_df['date'] = data_df['date'].dt.strftime('%Y-%m-%d')\n",
    "fig, ax = plt.subplots(1,1)\n",
    "# ax.xaxis.set_major_locator(ticker.MultipleLocator(5))\n",
    "\n",
    "# plt.xticks(rotation=90)\n",
    "\n",
    "# sns.lineplot(data=data_df, x='date', y='index', hue='keyword',style=\"keyword\")\n",
    "sns.lineplot(x='date',y='index',hue='keyword',data=data_df)\n",
    "ax.xaxis.set_major_locator(mdates.MonthLocator(interval=2))\n",
    "# ax.xaxis.set_major_locator(ticker.MultipleLocator(2))\n",
    "ax.xaxis.set_major_formatter(mdates.DateFormatter(\"%b %Y\"))\n",
    "plt.setp(ax.get_xticklabels(), rotation=30, ha=\"right\")\n",
    "plt.ylabel('log百度指数')\n",
    "plt.show()"
   ]
  }
 ],
 "metadata": {
  "kernelspec": {
   "display_name": "Python 3.8.13 ('Python38')",
   "language": "python",
   "name": "python3"
  },
  "language_info": {
   "codemirror_mode": {
    "name": "ipython",
    "version": 3
   },
   "file_extension": ".py",
   "mimetype": "text/x-python",
   "name": "python",
   "nbconvert_exporter": "python",
   "pygments_lexer": "ipython3",
   "version": "3.8.13"
  },
  "orig_nbformat": 4,
  "vscode": {
   "interpreter": {
    "hash": "88d5905f6f1d86d91bf30b8e0da0878017fdbbe83efeff95f00fce115c402358"
   }
  }
 },
 "nbformat": 4,
 "nbformat_minor": 2
}
