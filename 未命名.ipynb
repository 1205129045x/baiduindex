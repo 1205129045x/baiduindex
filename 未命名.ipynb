{
 "cells": [
  {
   "cell_type": "code",
   "execution_count": 4,
   "id": "ea6b3e23",
   "metadata": {},
   "outputs": [],
   "source": [
    "import pandas as pd\n",
    "from urllib.parse import quote\n",
    "b = b'/:?='\n",
    "url=quote(\"https://raw.githubusercontent.com/1205129045x/baiduindex/master/月度数据.csv\", safe=b)\n",
    "df = pd.read_csv(url, encoding='gbk')\n"
   ]
  },
  {
   "cell_type": "code",
   "execution_count": 2,
   "id": "ecad8eab",
   "metadata": {},
   "outputs": [
    {
     "data": {
      "text/plain": [
       "0      2019-01\n",
       "1      2019-02\n",
       "2      2019-03\n",
       "3      2019-04\n",
       "4      2019-05\n",
       "        ...   \n",
       "347    2022-04\n",
       "348    2022-05\n",
       "349    2022-06\n",
       "350    2022-07\n",
       "351    2022-08\n",
       "Name: date, Length: 352, dtype: object"
      ]
     },
     "execution_count": 2,
     "metadata": {},
     "output_type": "execute_result"
    }
   ],
   "source": [
    "df.date"
   ]
  },
  {
   "cell_type": "markdown",
   "id": "581b4bdd",
   "metadata": {
    "variables": {
     "df.date": "0      2019-01\n1      2019-02\n2      2019-03\n3      2019-04\n4      2019-05\n        ...<br>347    2022-04\n348    2022-05\n349    2022-06\n350    2022-07\n351    2022-08\nName: date, Length: 352, dtype: object"
    }
   },
   "source": [
    "a is {{df.date}}"
   ]
  },
  {
   "cell_type": "code",
   "execution_count": 7,
   "id": "5d365201",
   "metadata": {},
   "outputs": [
    {
     "data": {
      "text/markdown": [
       "*some markdown* $\\phi$"
      ],
      "text/plain": [
       "<IPython.core.display.Markdown object>"
      ]
     },
     "metadata": {},
     "output_type": "display_data"
    },
    {
     "data": {
      "text/latex": [
       "\\phi"
      ],
      "text/plain": [
       "<IPython.core.display.Latex object>"
      ]
     },
     "metadata": {},
     "output_type": "display_data"
    }
   ],
   "source": [
    "from IPython.display import display, Markdown, Latex, HTML\n",
    "display(Markdown('*some markdown* $\\phi$'))\n",
    "# If you particularly want to display maths, this is more direct:\n",
    "display(Latex('\\phi'))"
   ]
  },
  {
   "cell_type": "markdown",
   "id": "3f5b32d7",
   "metadata": {},
   "source": [
    "$\\phi$"
   ]
  },
  {
   "cell_type": "code",
   "execution_count": 18,
   "id": "43976694",
   "metadata": {},
   "outputs": [],
   "source": [
    "%%capture cape --no-stderr\n",
    "print(df.date)\n",
    "with open('output.txt', 'w') as f:\n",
    "    f.write(cape.stdout)"
   ]
  },
  {
   "cell_type": "code",
   "execution_count": 3,
   "id": "4936f28e",
   "metadata": {},
   "outputs": [],
   "source": [
    "data, metadata = get_ipython().display_formatter.format(df)\n",
    "with open('table.html', 'w') as f:\n",
    "    f.write(data['text/html'])  # Assuming the object has an HTML representation"
   ]
  },
  {
   "cell_type": "code",
   "execution_count": 21,
   "id": "24c2ef52",
   "metadata": {},
   "outputs": [
    {
     "data": {
      "text/plain": [
       "{'text/plain': '    keyword     date         index\\n0       去哪儿  2019-01  16137.451613\\n1       去哪儿  2019-02  11814.607143\\n2       去哪儿  2019-03  11024.354839\\n3       去哪儿  2019-04  12029.466667\\n4       去哪儿  2019-05  11522.064516\\n..      ...      ...           ...\\n347     马蜂窝  2022-04   2906.633333\\n348     马蜂窝  2022-05   2591.903226\\n349     马蜂窝  2022-06   3679.600000\\n350     马蜂窝  2022-07   5214.032258\\n351     马蜂窝  2022-08   7557.000000\\n\\n[352 rows x 3 columns]',\n",
       " 'text/html': '<div>\\n<style scoped>\\n    .dataframe tbody tr th:only-of-type {\\n        vertical-align: middle;\\n    }\\n\\n    .dataframe tbody tr th {\\n        vertical-align: top;\\n    }\\n\\n    .dataframe thead th {\\n        text-align: right;\\n    }\\n</style>\\n<table border=\"1\" class=\"dataframe\">\\n  <thead>\\n    <tr style=\"text-align: right;\">\\n      <th></th>\\n      <th>keyword</th>\\n      <th>date</th>\\n      <th>index</th>\\n    </tr>\\n  </thead>\\n  <tbody>\\n    <tr>\\n      <th>0</th>\\n      <td>去哪儿</td>\\n      <td>2019-01</td>\\n      <td>16137.451613</td>\\n    </tr>\\n    <tr>\\n      <th>1</th>\\n      <td>去哪儿</td>\\n      <td>2019-02</td>\\n      <td>11814.607143</td>\\n    </tr>\\n    <tr>\\n      <th>2</th>\\n      <td>去哪儿</td>\\n      <td>2019-03</td>\\n      <td>11024.354839</td>\\n    </tr>\\n    <tr>\\n      <th>3</th>\\n      <td>去哪儿</td>\\n      <td>2019-04</td>\\n      <td>12029.466667</td>\\n    </tr>\\n    <tr>\\n      <th>4</th>\\n      <td>去哪儿</td>\\n      <td>2019-05</td>\\n      <td>11522.064516</td>\\n    </tr>\\n    <tr>\\n      <th>...</th>\\n      <td>...</td>\\n      <td>...</td>\\n      <td>...</td>\\n    </tr>\\n    <tr>\\n      <th>347</th>\\n      <td>马蜂窝</td>\\n      <td>2022-04</td>\\n      <td>2906.633333</td>\\n    </tr>\\n    <tr>\\n      <th>348</th>\\n      <td>马蜂窝</td>\\n      <td>2022-05</td>\\n      <td>2591.903226</td>\\n    </tr>\\n    <tr>\\n      <th>349</th>\\n      <td>马蜂窝</td>\\n      <td>2022-06</td>\\n      <td>3679.600000</td>\\n    </tr>\\n    <tr>\\n      <th>350</th>\\n      <td>马蜂窝</td>\\n      <td>2022-07</td>\\n      <td>5214.032258</td>\\n    </tr>\\n    <tr>\\n      <th>351</th>\\n      <td>马蜂窝</td>\\n      <td>2022-08</td>\\n      <td>7557.000000</td>\\n    </tr>\\n  </tbody>\\n</table>\\n<p>352 rows × 3 columns</p>\\n</div>'}"
      ]
     },
     "execution_count": 21,
     "metadata": {},
     "output_type": "execute_result"
    }
   ],
   "source": [
    "data"
   ]
  },
  {
   "cell_type": "code",
   "execution_count": 15,
   "id": "9145bd74",
   "metadata": {},
   "outputs": [],
   "source": [
    "with open('table1.html', 'w') as f:\n",
    "    f.write(data['text/plain']) "
   ]
  },
  {
   "cell_type": "code",
   "execution_count": 8,
   "id": "14344df0",
   "metadata": {},
   "outputs": [],
   "source": [
    "data2 = get_ipython().display_formatter.format(df)"
   ]
  },
  {
   "cell_type": "code",
   "execution_count": 10,
   "id": "da329e5f",
   "metadata": {},
   "outputs": [],
   "source": [
    "data, metadata = get_ipython().display_formatter.format(df)"
   ]
  },
  {
   "cell_type": "code",
   "execution_count": 14,
   "id": "19746e7f",
   "metadata": {},
   "outputs": [
    {
     "ename": "TypeError",
     "evalue": "tuple indices must be integers or slices, not str",
     "output_type": "error",
     "traceback": [
      "\u001b[1;31m---------------------------------------------------------------------------\u001b[0m",
      "\u001b[1;31mTypeError\u001b[0m                                 Traceback (most recent call last)",
      "Cell \u001b[1;32mIn [14], line 1\u001b[0m\n\u001b[1;32m----> 1\u001b[0m \u001b[43mdata2\u001b[49m\u001b[43m[\u001b[49m\u001b[38;5;124;43m'\u001b[39;49m\u001b[38;5;124;43mtext/html\u001b[39;49m\u001b[38;5;124;43m'\u001b[39;49m\u001b[43m]\u001b[49m\n",
      "\u001b[1;31mTypeError\u001b[0m: tuple indices must be integers or slices, not str"
     ]
    }
   ],
   "source": [
    "data2['text/html']"
   ]
  },
  {
   "cell_type": "code",
   "execution_count": 13,
   "id": "c37c627c",
   "metadata": {},
   "outputs": [
    {
     "data": {
      "text/plain": [
       "{'text/plain': '    keyword     date         index\\n0       去哪儿  2019-01  16137.451613\\n1       去哪儿  2019-02  11814.607143\\n2       去哪儿  2019-03  11024.354839\\n3       去哪儿  2019-04  12029.466667\\n4       去哪儿  2019-05  11522.064516\\n..      ...      ...           ...\\n347     马蜂窝  2022-04   2906.633333\\n348     马蜂窝  2022-05   2591.903226\\n349     马蜂窝  2022-06   3679.600000\\n350     马蜂窝  2022-07   5214.032258\\n351     马蜂窝  2022-08   7557.000000\\n\\n[352 rows x 3 columns]',\n",
       " 'text/html': '<div>\\n<style scoped>\\n    .dataframe tbody tr th:only-of-type {\\n        vertical-align: middle;\\n    }\\n\\n    .dataframe tbody tr th {\\n        vertical-align: top;\\n    }\\n\\n    .dataframe thead th {\\n        text-align: right;\\n    }\\n</style>\\n<table border=\"1\" class=\"dataframe\">\\n  <thead>\\n    <tr style=\"text-align: right;\">\\n      <th></th>\\n      <th>keyword</th>\\n      <th>date</th>\\n      <th>index</th>\\n    </tr>\\n  </thead>\\n  <tbody>\\n    <tr>\\n      <th>0</th>\\n      <td>去哪儿</td>\\n      <td>2019-01</td>\\n      <td>16137.451613</td>\\n    </tr>\\n    <tr>\\n      <th>1</th>\\n      <td>去哪儿</td>\\n      <td>2019-02</td>\\n      <td>11814.607143</td>\\n    </tr>\\n    <tr>\\n      <th>2</th>\\n      <td>去哪儿</td>\\n      <td>2019-03</td>\\n      <td>11024.354839</td>\\n    </tr>\\n    <tr>\\n      <th>3</th>\\n      <td>去哪儿</td>\\n      <td>2019-04</td>\\n      <td>12029.466667</td>\\n    </tr>\\n    <tr>\\n      <th>4</th>\\n      <td>去哪儿</td>\\n      <td>2019-05</td>\\n      <td>11522.064516</td>\\n    </tr>\\n    <tr>\\n      <th>...</th>\\n      <td>...</td>\\n      <td>...</td>\\n      <td>...</td>\\n    </tr>\\n    <tr>\\n      <th>347</th>\\n      <td>马蜂窝</td>\\n      <td>2022-04</td>\\n      <td>2906.633333</td>\\n    </tr>\\n    <tr>\\n      <th>348</th>\\n      <td>马蜂窝</td>\\n      <td>2022-05</td>\\n      <td>2591.903226</td>\\n    </tr>\\n    <tr>\\n      <th>349</th>\\n      <td>马蜂窝</td>\\n      <td>2022-06</td>\\n      <td>3679.600000</td>\\n    </tr>\\n    <tr>\\n      <th>350</th>\\n      <td>马蜂窝</td>\\n      <td>2022-07</td>\\n      <td>5214.032258</td>\\n    </tr>\\n    <tr>\\n      <th>351</th>\\n      <td>马蜂窝</td>\\n      <td>2022-08</td>\\n      <td>7557.000000</td>\\n    </tr>\\n  </tbody>\\n</table>\\n<p>352 rows × 3 columns</p>\\n</div>'}"
      ]
     },
     "execution_count": 13,
     "metadata": {},
     "output_type": "execute_result"
    }
   ],
   "source": [
    "data"
   ]
  }
 ],
 "metadata": {
  "kernelspec": {
   "display_name": "Python 3 (ipykernel)",
   "language": "python",
   "name": "python3"
  },
  "language_info": {
   "codemirror_mode": {
    "name": "ipython",
    "version": 3
   },
   "file_extension": ".py",
   "mimetype": "text/x-python",
   "name": "python",
   "nbconvert_exporter": "python",
   "pygments_lexer": "ipython3",
   "version": "3.8.13"
  },
  "vscode": {
   "interpreter": {
    "hash": "88d5905f6f1d86d91bf30b8e0da0878017fdbbe83efeff95f00fce115c402358"
   }
  }
 },
 "nbformat": 4,
 "nbformat_minor": 5
}
